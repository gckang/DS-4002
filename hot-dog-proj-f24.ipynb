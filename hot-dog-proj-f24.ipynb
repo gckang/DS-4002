{
 "cells": [
  {
   "cell_type": "markdown",
   "metadata": {},
   "source": [
    "# Project 0 -- Is a Hot Dog a Sandwich?\n",
    "Hypothesis: 1/3 of UVA undergraduate students think a hot dog is a sandwich."
   ]
  },
  {
   "cell_type": "code",
   "execution_count": 24,
   "metadata": {},
   "outputs": [],
   "source": [
    "import pandas as pd\n",
    "import numpy as np\n",
    "from scipy import stats"
   ]
  },
  {
   "cell_type": "code",
   "execution_count": 16,
   "metadata": {},
   "outputs": [
    {
     "name": "stdout",
     "output_type": "stream",
     "text": [
      "(187, 8) \n",
      "\n"
     ]
    },
    {
     "data": {
      "text/html": [
       "<div>\n",
       "<style scoped>\n",
       "    .dataframe tbody tr th:only-of-type {\n",
       "        vertical-align: middle;\n",
       "    }\n",
       "\n",
       "    .dataframe tbody tr th {\n",
       "        vertical-align: top;\n",
       "    }\n",
       "\n",
       "    .dataframe thead th {\n",
       "        text-align: right;\n",
       "    }\n",
       "</style>\n",
       "<table border=\"1\" class=\"dataframe\">\n",
       "  <thead>\n",
       "    <tr style=\"text-align: right;\">\n",
       "      <th></th>\n",
       "      <th>Id</th>\n",
       "      <th>Start time</th>\n",
       "      <th>Completion time</th>\n",
       "      <th>Email</th>\n",
       "      <th>Name</th>\n",
       "      <th>Is a hotdog a sandwich</th>\n",
       "      <th>Are you a UVA undergraduate student</th>\n",
       "      <th>What is your major?</th>\n",
       "    </tr>\n",
       "  </thead>\n",
       "  <tbody>\n",
       "    <tr>\n",
       "      <th>0</th>\n",
       "      <td>1</td>\n",
       "      <td>9/1/2024 11:27</td>\n",
       "      <td>9/1/2024 11:27</td>\n",
       "      <td>anonymous</td>\n",
       "      <td>NaN</td>\n",
       "      <td>No</td>\n",
       "      <td>Yes</td>\n",
       "      <td>Psych</td>\n",
       "    </tr>\n",
       "    <tr>\n",
       "      <th>1</th>\n",
       "      <td>2</td>\n",
       "      <td>9/1/2024 11:27</td>\n",
       "      <td>9/1/2024 11:27</td>\n",
       "      <td>anonymous</td>\n",
       "      <td>NaN</td>\n",
       "      <td>No</td>\n",
       "      <td>Yes</td>\n",
       "      <td>Math, concentration in probability and statistics</td>\n",
       "    </tr>\n",
       "    <tr>\n",
       "      <th>2</th>\n",
       "      <td>3</td>\n",
       "      <td>9/1/2024 11:27</td>\n",
       "      <td>9/1/2024 11:27</td>\n",
       "      <td>anonymous</td>\n",
       "      <td>NaN</td>\n",
       "      <td>No</td>\n",
       "      <td>Yes</td>\n",
       "      <td>Systems Engineering</td>\n",
       "    </tr>\n",
       "    <tr>\n",
       "      <th>3</th>\n",
       "      <td>4</td>\n",
       "      <td>9/1/2024 11:27</td>\n",
       "      <td>9/1/2024 11:28</td>\n",
       "      <td>anonymous</td>\n",
       "      <td>NaN</td>\n",
       "      <td>No</td>\n",
       "      <td>Yes</td>\n",
       "      <td>CS+Math</td>\n",
       "    </tr>\n",
       "    <tr>\n",
       "      <th>4</th>\n",
       "      <td>5</td>\n",
       "      <td>9/1/2024 11:27</td>\n",
       "      <td>9/1/2024 11:28</td>\n",
       "      <td>anonymous</td>\n",
       "      <td>NaN</td>\n",
       "      <td>No</td>\n",
       "      <td>Yes</td>\n",
       "      <td>wgs and History</td>\n",
       "    </tr>\n",
       "  </tbody>\n",
       "</table>\n",
       "</div>"
      ],
      "text/plain": [
       "   Id      Start time Completion time      Email  Name Is a hotdog a sandwich  \\\n",
       "0   1  9/1/2024 11:27  9/1/2024 11:27  anonymous   NaN                     No   \n",
       "1   2  9/1/2024 11:27  9/1/2024 11:27  anonymous   NaN                     No   \n",
       "2   3  9/1/2024 11:27  9/1/2024 11:27  anonymous   NaN                     No   \n",
       "3   4  9/1/2024 11:27  9/1/2024 11:28  anonymous   NaN                     No   \n",
       "4   5  9/1/2024 11:27  9/1/2024 11:28  anonymous   NaN                     No   \n",
       "\n",
       "  Are you a UVA undergraduate student  \\\n",
       "0                                 Yes   \n",
       "1                                 Yes   \n",
       "2                                 Yes   \n",
       "3                                 Yes   \n",
       "4                                 Yes   \n",
       "\n",
       "                                 What is your major?  \n",
       "0                                              Psych  \n",
       "1  Math, concentration in probability and statistics  \n",
       "2                               Systems Engineering   \n",
       "3                                            CS+Math  \n",
       "4                                    wgs and History  "
      ]
     },
     "execution_count": 16,
     "metadata": {},
     "output_type": "execute_result"
    }
   ],
   "source": [
    "df = pd.read_csv('./hot-dog-survey-data/Hot-Dog-Form-Fa24.csv', encoding='cp1252')\n",
    "print( df.shape, '\\n')\n",
    "df.head()"
   ]
  },
  {
   "cell_type": "code",
   "execution_count": 19,
   "metadata": {},
   "outputs": [
    {
     "data": {
      "text/html": [
       "<div>\n",
       "<style scoped>\n",
       "    .dataframe tbody tr th:only-of-type {\n",
       "        vertical-align: middle;\n",
       "    }\n",
       "\n",
       "    .dataframe tbody tr th {\n",
       "        vertical-align: top;\n",
       "    }\n",
       "\n",
       "    .dataframe thead th {\n",
       "        text-align: right;\n",
       "    }\n",
       "</style>\n",
       "<table border=\"1\" class=\"dataframe\">\n",
       "  <thead>\n",
       "    <tr style=\"text-align: right;\">\n",
       "      <th></th>\n",
       "      <th>Id</th>\n",
       "      <th>Is a hotdog a sandwich</th>\n",
       "      <th>Are you a UVA undergraduate student</th>\n",
       "      <th>What is your major?</th>\n",
       "    </tr>\n",
       "  </thead>\n",
       "  <tbody>\n",
       "    <tr>\n",
       "      <th>0</th>\n",
       "      <td>1</td>\n",
       "      <td>No</td>\n",
       "      <td>Yes</td>\n",
       "      <td>Psych</td>\n",
       "    </tr>\n",
       "    <tr>\n",
       "      <th>1</th>\n",
       "      <td>2</td>\n",
       "      <td>No</td>\n",
       "      <td>Yes</td>\n",
       "      <td>Math, concentration in probability and statistics</td>\n",
       "    </tr>\n",
       "    <tr>\n",
       "      <th>2</th>\n",
       "      <td>3</td>\n",
       "      <td>No</td>\n",
       "      <td>Yes</td>\n",
       "      <td>Systems Engineering</td>\n",
       "    </tr>\n",
       "    <tr>\n",
       "      <th>3</th>\n",
       "      <td>4</td>\n",
       "      <td>No</td>\n",
       "      <td>Yes</td>\n",
       "      <td>CS+Math</td>\n",
       "    </tr>\n",
       "    <tr>\n",
       "      <th>4</th>\n",
       "      <td>5</td>\n",
       "      <td>No</td>\n",
       "      <td>Yes</td>\n",
       "      <td>wgs and History</td>\n",
       "    </tr>\n",
       "    <tr>\n",
       "      <th>...</th>\n",
       "      <td>...</td>\n",
       "      <td>...</td>\n",
       "      <td>...</td>\n",
       "      <td>...</td>\n",
       "    </tr>\n",
       "    <tr>\n",
       "      <th>182</th>\n",
       "      <td>183</td>\n",
       "      <td>No</td>\n",
       "      <td>Yes</td>\n",
       "      <td>Civil Engineering</td>\n",
       "    </tr>\n",
       "    <tr>\n",
       "      <th>183</th>\n",
       "      <td>184</td>\n",
       "      <td>No</td>\n",
       "      <td>Yes</td>\n",
       "      <td>Biology</td>\n",
       "    </tr>\n",
       "    <tr>\n",
       "      <th>184</th>\n",
       "      <td>185</td>\n",
       "      <td>Yes</td>\n",
       "      <td>Yes</td>\n",
       "      <td>Systems engineering</td>\n",
       "    </tr>\n",
       "    <tr>\n",
       "      <th>185</th>\n",
       "      <td>186</td>\n",
       "      <td>Yes</td>\n",
       "      <td>Yes</td>\n",
       "      <td>Statistics</td>\n",
       "    </tr>\n",
       "    <tr>\n",
       "      <th>186</th>\n",
       "      <td>187</td>\n",
       "      <td>No</td>\n",
       "      <td>Yes</td>\n",
       "      <td>Politics</td>\n",
       "    </tr>\n",
       "  </tbody>\n",
       "</table>\n",
       "<p>187 rows × 4 columns</p>\n",
       "</div>"
      ],
      "text/plain": [
       "      Id Is a hotdog a sandwich Are you a UVA undergraduate student  \\\n",
       "0      1                     No                                 Yes   \n",
       "1      2                     No                                 Yes   \n",
       "2      3                     No                                 Yes   \n",
       "3      4                     No                                 Yes   \n",
       "4      5                     No                                 Yes   \n",
       "..   ...                    ...                                 ...   \n",
       "182  183                     No                                 Yes   \n",
       "183  184                     No                                 Yes   \n",
       "184  185                    Yes                                 Yes   \n",
       "185  186                    Yes                                 Yes   \n",
       "186  187                     No                                 Yes   \n",
       "\n",
       "                                   What is your major?  \n",
       "0                                                Psych  \n",
       "1    Math, concentration in probability and statistics  \n",
       "2                                 Systems Engineering   \n",
       "3                                              CS+Math  \n",
       "4                                      wgs and History  \n",
       "..                                                 ...  \n",
       "182                                  Civil Engineering  \n",
       "183                                            Biology  \n",
       "184                               Systems engineering   \n",
       "185                                         Statistics  \n",
       "186                                           Politics  \n",
       "\n",
       "[187 rows x 4 columns]"
      ]
     },
     "execution_count": 19,
     "metadata": {},
     "output_type": "execute_result"
    }
   ],
   "source": [
    "df.drop(columns=['Start time', 'Completion time', 'Email', 'Name'])"
   ]
  },
  {
   "cell_type": "code",
   "execution_count": 20,
   "metadata": {},
   "outputs": [],
   "source": [
    "df.drop(df.loc[df[\"Are you a UVA undergraduate student\"] == \"No\"].index, inplace=True)"
   ]
  },
  {
   "cell_type": "code",
   "execution_count": 22,
   "metadata": {},
   "outputs": [
    {
     "data": {
      "text/plain": [
       "Is a hotdog a sandwich\n",
       "No     123\n",
       "Yes     58\n",
       "Name: count, dtype: int64"
      ]
     },
     "execution_count": 22,
     "metadata": {},
     "output_type": "execute_result"
    }
   ],
   "source": [
    "df[\"Is a hotdog a sandwich\"].value_counts()"
   ]
  },
  {
   "cell_type": "code",
   "execution_count": 23,
   "metadata": {},
   "outputs": [
    {
     "data": {
      "text/plain": [
       "<Axes: xlabel='Is a hotdog a sandwich'>"
      ]
     },
     "execution_count": 23,
     "metadata": {},
     "output_type": "execute_result"
    },
    {
     "data": {
      "image/png": "[encoded data removed]",
      "text/plain": [
       "<Figure size 640x480 with 1 Axes>"
      ]
     },
     "metadata": {},
     "output_type": "display_data"
    }
   ],
   "source": [
    "df[\"Is a hotdog a sandwich\"].value_counts().plot(kind = 'bar')"
   ]
  },
  {
   "cell_type": "code",
   "execution_count": 25,
   "metadata": {},
   "outputs": [],
   "source": [
    "# chi squared hypothesis test, binomial hypothesis test\n",
    "# failed to reject the null hypothesis, p val = 0.7\n",
    "# good indicator is it wasn't 1/3\n",
    "\n",
    "# binomial parametric inference\n",
    "# scipy stats, confidence interval containing the value 1/3\n",
    "# yes this is the correct response"
   ]
  },
  {
   "cell_type": "code",
   "execution_count": null,
   "metadata": {},
   "outputs": [],
   "source": []
  }
 ],
 "metadata": {
  "kernelspec": {
   "display_name": "Python 3",
   "language": "python",
   "name": "python3"
  },
  "language_info": {
   "codemirror_mode": {
    "name": "ipython",
    "version": 3
   },
   "file_extension": ".py",
   "mimetype": "text/x-python",
   "name": "python",
   "nbconvert_exporter": "python",
   "pygments_lexer": "ipython3",
   "version": "3.12.1"
  }
 },
 "nbformat": 4,
 "nbformat_minor": 2
}
