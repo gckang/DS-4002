{
 "cells": [
  {
   "cell_type": "markdown",
   "metadata": {},
   "source": [
    "# Project 0 -- Is a Hot Dog a Sandwich?"
   ]
  },
  {
   "cell_type": "markdown",
   "metadata": {},
   "source": [
    "Hypothesis: 1/3 of UVA undergraduate students think a hot dog is a sandwich."
   ]
  },
  {
   "cell_type": "code",
   "execution_count": 1,
   "metadata": {},
   "outputs": [],
   "source": [
    "import pandas as pd\n",
    "import numpy as np"
   ]
  },
  {
   "cell_type": "code",
   "execution_count": 9,
   "metadata": {},
   "outputs": [
    {
     "name": "stdout",
     "output_type": "stream",
     "text": [
      "(91, 7) \n",
      "\n"
     ]
    },
    {
     "data": {
      "text/html": [
       "<div>\n",
       "<style scoped>\n",
       "    .dataframe tbody tr th:only-of-type {\n",
       "        vertical-align: middle;\n",
       "    }\n",
       "\n",
       "    .dataframe tbody tr th {\n",
       "        vertical-align: top;\n",
       "    }\n",
       "\n",
       "    .dataframe thead th {\n",
       "        text-align: right;\n",
       "    }\n",
       "</style>\n",
       "<table border=\"1\" class=\"dataframe\">\n",
       "  <thead>\n",
       "    <tr style=\"text-align: right;\">\n",
       "      <th></th>\n",
       "      <th>Timestamp</th>\n",
       "      <th>Do you believe that a hotdog falls under the category of a sandwich?</th>\n",
       "      <th>What is the rationale behind your opinion?</th>\n",
       "      <th>Are you currently enrolled as an undergraduate or graduate student at the University of Virginia?</th>\n",
       "      <th>What is your field of study or major?</th>\n",
       "      <th>If you are an undergraduate, what is your current academic year?</th>\n",
       "      <th>What state or country were you born in?</th>\n",
       "    </tr>\n",
       "  </thead>\n",
       "  <tbody>\n",
       "    <tr>\n",
       "      <th>0</th>\n",
       "      <td>2024-01-18 14:18:57.066</td>\n",
       "      <td>No</td>\n",
       "      <td>If you asked for a sandwich and someone gave y...</td>\n",
       "      <td>Undergraduate</td>\n",
       "      <td>Systems engineering</td>\n",
       "      <td>Fourth year</td>\n",
       "      <td>Virginia</td>\n",
       "    </tr>\n",
       "    <tr>\n",
       "      <th>1</th>\n",
       "      <td>2024-01-18 14:19:43.773</td>\n",
       "      <td>No</td>\n",
       "      <td>NaN</td>\n",
       "      <td>Graduate</td>\n",
       "      <td>NaN</td>\n",
       "      <td>NaN</td>\n",
       "      <td>NaN</td>\n",
       "    </tr>\n",
       "    <tr>\n",
       "      <th>2</th>\n",
       "      <td>2024-01-18 14:20:51.525</td>\n",
       "      <td>No</td>\n",
       "      <td>Society doesn’t view it that way</td>\n",
       "      <td>Undergraduate</td>\n",
       "      <td>Computer science</td>\n",
       "      <td>Third Year</td>\n",
       "      <td>United States</td>\n",
       "    </tr>\n",
       "    <tr>\n",
       "      <th>3</th>\n",
       "      <td>2024-01-18 14:21:09.905</td>\n",
       "      <td>No</td>\n",
       "      <td>If a sandwich has meat in it, it is sliced. A ...</td>\n",
       "      <td>Undergraduate</td>\n",
       "      <td>Astronomy-Physics</td>\n",
       "      <td>Fourth year</td>\n",
       "      <td>New York</td>\n",
       "    </tr>\n",
       "    <tr>\n",
       "      <th>4</th>\n",
       "      <td>2024-01-18 14:22:38.459</td>\n",
       "      <td>Yes</td>\n",
       "      <td>Merriam Webster Dictionary definition of sandwich</td>\n",
       "      <td>Undergraduate</td>\n",
       "      <td>Computer Science</td>\n",
       "      <td>Fourth year</td>\n",
       "      <td>Virginia, United States</td>\n",
       "    </tr>\n",
       "  </tbody>\n",
       "</table>\n",
       "</div>"
      ],
      "text/plain": [
       "                Timestamp  \\\n",
       "0 2024-01-18 14:18:57.066   \n",
       "1 2024-01-18 14:19:43.773   \n",
       "2 2024-01-18 14:20:51.525   \n",
       "3 2024-01-18 14:21:09.905   \n",
       "4 2024-01-18 14:22:38.459   \n",
       "\n",
       "  Do you believe that a hotdog falls under the category of a sandwich?  \\\n",
       "0                                                 No                     \n",
       "1                                                 No                     \n",
       "2                                                 No                     \n",
       "3                                                 No                     \n",
       "4                                                Yes                     \n",
       "\n",
       "          What is the rationale behind your opinion?  \\\n",
       "0  If you asked for a sandwich and someone gave y...   \n",
       "1                                                NaN   \n",
       "2                  Society doesn’t view it that way    \n",
       "3  If a sandwich has meat in it, it is sliced. A ...   \n",
       "4  Merriam Webster Dictionary definition of sandwich   \n",
       "\n",
       "  Are you currently enrolled as an undergraduate or graduate student at the University of Virginia?  \\\n",
       "0                                      Undergraduate                                                  \n",
       "1                                           Graduate                                                  \n",
       "2                                      Undergraduate                                                  \n",
       "3                                      Undergraduate                                                  \n",
       "4                                      Undergraduate                                                  \n",
       "\n",
       "  What is your field of study or major?  \\\n",
       "0                   Systems engineering   \n",
       "1                                   NaN   \n",
       "2                     Computer science    \n",
       "3                    Astronomy-Physics    \n",
       "4                      Computer Science   \n",
       "\n",
       "  If you are an undergraduate, what is your current academic year?  \\\n",
       "0                                        Fourth year                 \n",
       "1                                                NaN                 \n",
       "2                                         Third Year                 \n",
       "3                                        Fourth year                 \n",
       "4                                        Fourth year                 \n",
       "\n",
       "  What state or country were you born in?  \n",
       "0                                Virginia  \n",
       "1                                     NaN  \n",
       "2                          United States   \n",
       "3                                New York  \n",
       "4                 Virginia, United States  "
      ]
     },
     "execution_count": 9,
     "metadata": {},
     "output_type": "execute_result"
    }
   ],
   "source": [
    "df = pd.read_excel('./hot-dog-survey-data/DS-4002-sp24-survey-results.xlsx')\n",
    "print( df.shape, '\\n')\n",
    "df.head()"
   ]
  },
  {
   "cell_type": "code",
   "execution_count": 18,
   "metadata": {},
   "outputs": [],
   "source": [
    "df = df.rename(columns={\"Do you believe that a hotdog falls under the category of a sandwich?\": \"is_sandwich\", \"What is the rationale behind your opinion?\":\"rationale\", \"Are you currently enrolled as an undergraduate or graduate student at the University of Virginia?\":\"is_undergrad\", \"What is your field of study or major?\":\"major\", \"If you are an undergraduate, what is your current academic year?\": \"year\", \"What state or country were you born in?\":\"birthplace\"})"
   ]
  },
  {
   "cell_type": "code",
   "execution_count": 22,
   "metadata": {},
   "outputs": [
    {
     "data": {
      "text/plain": [
       "Index(['Timestamp', 'is_sandwich', 'rationale', 'is_undergrad', 'major',\n",
       "       'year', 'birthplace'],\n",
       "      dtype='object')"
      ]
     },
     "execution_count": 22,
     "metadata": {},
     "output_type": "execute_result"
    }
   ],
   "source": [
    "df.columns"
   ]
  },
  {
   "cell_type": "code",
   "execution_count": 21,
   "metadata": {},
   "outputs": [
    {
     "data": {
      "text/plain": [
       "<Axes: xlabel='is_sandwich'>"
      ]
     },
     "execution_count": 21,
     "metadata": {},
     "output_type": "execute_result"
    },
    {
     "data": {
      "image/png": "[encoded data removed]",
      "text/plain": [
       "<Figure size 640x480 with 1 Axes>"
      ]
     },
     "metadata": {},
     "output_type": "display_data"
    }
   ],
   "source": [
    "df.is_sandwich.value_counts().plot(kind = 'bar')"
   ]
  },
  {
   "cell_type": "code",
   "execution_count": null,
   "metadata": {},
   "outputs": [],
   "source": []
  },
  {
   "cell_type": "code",
   "execution_count": null,
   "metadata": {},
   "outputs": [],
   "source": []
  }
 ],
 "metadata": {
  "kernelspec": {
   "display_name": "Python 3",
   "language": "python",
   "name": "python3"
  },
  "language_info": {
   "codemirror_mode": {
    "name": "ipython",
    "version": 3
   },
   "file_extension": ".py",
   "mimetype": "text/x-python",
   "name": "python",
   "nbconvert_exporter": "python",
   "pygments_lexer": "ipython3",
   "version": "3.12.1"
  }
 },
 "nbformat": 4,
 "nbformat_minor": 2
}
